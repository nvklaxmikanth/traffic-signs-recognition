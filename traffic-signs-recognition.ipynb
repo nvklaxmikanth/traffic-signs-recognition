{
 "cells": [
  {
   "cell_type": "markdown",
   "id": "f4c143f6",
   "metadata": {},
   "source": [
    "# Traffic Signs Recognition Using Convolutional Neural Network"
   ]
  },
  {
   "cell_type": "markdown",
   "id": "d4b0d32c",
   "metadata": {},
   "source": [
    "# Importing the libraries"
   ]
  },
  {
   "cell_type": "code",
   "execution_count": 1,
   "id": "268ece6a",
   "metadata": {},
   "outputs": [],
   "source": [
    "import numpy as np\n",
    "import pandas as pd\n",
    "import matplotlib.pyplot as plt\n",
    "import tensorflow as tf\n",
    "from keras.preprocessing.image import ImageDataGenerator\n",
    "from keras.preprocessing import image\n",
    "from tensorflow.keras.utils import to_categorical\n",
    "from tensorflow.keras.models import Sequential\n",
    "from tensorflow.keras.layers import Conv2D, MaxPool2D, Dense, Flatten, Dropout\n",
    "from sklearn.model_selection import train_test_split\n",
    "import os"
   ]
  },
  {
   "cell_type": "code",
   "execution_count": 2,
   "id": "06f3ef4c",
   "metadata": {},
   "outputs": [
    {
     "data": {
      "text/plain": [
       "'2.8.0'"
      ]
     },
     "execution_count": 2,
     "metadata": {},
     "output_type": "execute_result"
    }
   ],
   "source": [
    "tf.__version__"
   ]
  },
  {
   "cell_type": "markdown",
   "id": "00a7a3d2",
   "metadata": {},
   "source": [
    "# Labels And Data "
   ]
  },
  {
   "cell_type": "code",
   "execution_count": 3,
   "id": "dbb76222",
   "metadata": {},
   "outputs": [
    {
     "name": "stdout",
     "output_type": "stream",
     "text": [
      "D:\\ML-Projects\\traffic-signs-recognition\n"
     ]
    }
   ],
   "source": [
    "data = []\n",
    "labels = []\n",
    "classes = 43\n",
    "cur_path = os.getcwd()\n",
    "print(cur_path)"
   ]
  },
  {
   "cell_type": "markdown",
   "id": "515d52c8",
   "metadata": {},
   "source": [
    "# Image preprocessing"
   ]
  },
  {
   "cell_type": "code",
   "execution_count": 4,
   "id": "cb208423",
   "metadata": {},
   "outputs": [],
   "source": [
    "for i in range(classes):\n",
    "    path = os.path.join(cur_path,'Dataset','train',str(i))\n",
    "    images = os.listdir(path)\n",
    "    for a in images:\n",
    "        try:\n",
    "            img = image.load_img(path+\"\\\\\"+a,target_size = (30,30))\n",
    "            img = image.img_to_array(img)\n",
    "            data.append(img)\n",
    "            labels.append(i)\n",
    "        except Exception as e:\n",
    "            print(e)"
   ]
  },
  {
   "cell_type": "markdown",
   "id": "01152c70",
   "metadata": {},
   "source": [
    "# Converting Lists Into Numpy Arrays"
   ]
  },
  {
   "cell_type": "code",
   "execution_count": 5,
   "id": "d952bc26",
   "metadata": {
    "scrolled": true
   },
   "outputs": [
    {
     "name": "stdout",
     "output_type": "stream",
     "text": [
      "(39209, 30, 30, 3) (39209,)\n"
     ]
    }
   ],
   "source": [
    "data = np.array(data)\n",
    "labels = np.array(labels)\n",
    "print(data.shape, labels.shape) "
   ]
  },
  {
   "cell_type": "markdown",
   "id": "af4786c3",
   "metadata": {},
   "source": [
    "# Spliting Into Testing and Training Datasets"
   ]
  },
  {
   "cell_type": "code",
   "execution_count": 6,
   "id": "7bff78c2",
   "metadata": {},
   "outputs": [
    {
     "name": "stdout",
     "output_type": "stream",
     "text": [
      "(31367, 30, 30, 3) (7842, 30, 30, 3) (31367,) (7842,)\n"
     ]
    }
   ],
   "source": [
    "X_train, X_test, y_train, y_test =train_test_split(data, labels, test_size=0.2, random_state=0)\n",
    "print(X_train.shape, X_test.shape, y_train.shape, y_test.shape) "
   ]
  },
  {
   "cell_type": "markdown",
   "id": "144a877c",
   "metadata": {},
   "source": [
    "# One-Hot encoding"
   ]
  },
  {
   "cell_type": "code",
   "execution_count": 7,
   "id": "5c0f2df1",
   "metadata": {},
   "outputs": [],
   "source": [
    "y_train = to_categorical(y_train,43) \n",
    "y_test = to_categorical(y_test,43)"
   ]
  },
  {
   "cell_type": "markdown",
   "id": "3c9d698b",
   "metadata": {},
   "source": [
    "# Building the CNN Model"
   ]
  },
  {
   "cell_type": "code",
   "execution_count": 8,
   "id": "35e1ccdc",
   "metadata": {},
   "outputs": [],
   "source": [
    "model = Sequential()"
   ]
  },
  {
   "cell_type": "code",
   "execution_count": 9,
   "id": "4157d4d9",
   "metadata": {},
   "outputs": [],
   "source": [
    "model.add(Conv2D(filters=32, kernel_size=5, activation='relu', input_shape=[30, 30, 3]))\n",
    "model.add(Conv2D(filters=32, kernel_size=5, activation='relu')) "
   ]
  },
  {
   "cell_type": "code",
   "execution_count": 10,
   "id": "25a6405e",
   "metadata": {},
   "outputs": [],
   "source": [
    "model.add(MaxPool2D(pool_size=2, strides=2)) \n",
    "model.add(Dropout(rate=0.25)) "
   ]
  },
  {
   "cell_type": "code",
   "execution_count": 11,
   "id": "32e5e0f7",
   "metadata": {},
   "outputs": [],
   "source": [
    "model.add(Conv2D(filters=64, kernel_size=3, activation='relu')) \n",
    "model.add(Conv2D(filters=64, kernel_size=3, activation='relu')) "
   ]
  },
  {
   "cell_type": "code",
   "execution_count": 12,
   "id": "86a8a58a",
   "metadata": {},
   "outputs": [],
   "source": [
    "model.add(MaxPool2D(pool_size=2, strides=2)) \n",
    "model.add(Dropout(rate=0.25)) "
   ]
  },
  {
   "cell_type": "code",
   "execution_count": 13,
   "id": "e541383c",
   "metadata": {},
   "outputs": [],
   "source": [
    "model.add(Flatten())"
   ]
  },
  {
   "cell_type": "code",
   "execution_count": 14,
   "id": "efe8d198",
   "metadata": {},
   "outputs": [],
   "source": [
    "model.add(Dense(units=256, activation='relu'))\n",
    "model.add(Dropout(rate=0.5)) "
   ]
  },
  {
   "cell_type": "code",
   "execution_count": 15,
   "id": "dea6aa9a",
   "metadata": {},
   "outputs": [],
   "source": [
    "model.add(Dense(43, activation='softmax'))"
   ]
  },
  {
   "cell_type": "markdown",
   "id": "902fdcd2",
   "metadata": {},
   "source": [
    "# Training the CNN Model"
   ]
  },
  {
   "cell_type": "code",
   "execution_count": 16,
   "id": "a4452b31",
   "metadata": {},
   "outputs": [],
   "source": [
    "model.compile(optimizer = 'adam', loss = 'categorical_crossentropy', metrics = ['accuracy'])"
   ]
  },
  {
   "cell_type": "code",
   "execution_count": 17,
   "id": "f4d2b06b",
   "metadata": {},
   "outputs": [
    {
     "name": "stdout",
     "output_type": "stream",
     "text": [
      "Epoch 1/20\n",
      "981/981 [==============================] - 104s 106ms/step - loss: 2.3543 - accuracy: 0.3940 - val_loss: 0.9277 - val_accuracy: 0.7567\n",
      "Epoch 2/20\n",
      "981/981 [==============================] - 117s 119ms/step - loss: 1.1125 - accuracy: 0.6634 - val_loss: 0.5278 - val_accuracy: 0.8372\n",
      "Epoch 3/20\n",
      "981/981 [==============================] - 107s 109ms/step - loss: 0.8538 - accuracy: 0.7360 - val_loss: 0.3957 - val_accuracy: 0.8812\n",
      "Epoch 4/20\n",
      "981/981 [==============================] - 113s 115ms/step - loss: 0.6565 - accuracy: 0.7951 - val_loss: 0.3192 - val_accuracy: 0.9165\n",
      "Epoch 5/20\n",
      "981/981 [==============================] - 115s 117ms/step - loss: 0.5058 - accuracy: 0.8455 - val_loss: 0.2260 - val_accuracy: 0.9343\n",
      "Epoch 6/20\n",
      "981/981 [==============================] - 111s 113ms/step - loss: 0.4298 - accuracy: 0.8695 - val_loss: 0.2329 - val_accuracy: 0.9311\n",
      "Epoch 7/20\n",
      "981/981 [==============================] - 123s 125ms/step - loss: 0.3847 - accuracy: 0.8822 - val_loss: 0.1878 - val_accuracy: 0.9435\n",
      "Epoch 8/20\n",
      "981/981 [==============================] - 143s 146ms/step - loss: 0.3587 - accuracy: 0.8919 - val_loss: 0.1715 - val_accuracy: 0.9495\n",
      "Epoch 9/20\n",
      "981/981 [==============================] - 109s 111ms/step - loss: 0.3232 - accuracy: 0.9042 - val_loss: 0.2096 - val_accuracy: 0.9408\n",
      "Epoch 10/20\n",
      "981/981 [==============================] - 93s 95ms/step - loss: 0.2973 - accuracy: 0.9118 - val_loss: 0.1458 - val_accuracy: 0.9605\n",
      "Epoch 11/20\n",
      "981/981 [==============================] - 121s 123ms/step - loss: 0.3011 - accuracy: 0.9114 - val_loss: 0.1219 - val_accuracy: 0.9666\n",
      "Epoch 12/20\n",
      "981/981 [==============================] - 145s 148ms/step - loss: 0.2918 - accuracy: 0.9152 - val_loss: 0.1226 - val_accuracy: 0.9671\n",
      "Epoch 13/20\n",
      "981/981 [==============================] - 158s 161ms/step - loss: 0.2931 - accuracy: 0.9167 - val_loss: 0.1345 - val_accuracy: 0.9591\n",
      "Epoch 14/20\n",
      "981/981 [==============================] - 158s 161ms/step - loss: 0.2878 - accuracy: 0.9162 - val_loss: 0.1029 - val_accuracy: 0.9698\n",
      "Epoch 15/20\n",
      "981/981 [==============================] - 155s 158ms/step - loss: 0.2681 - accuracy: 0.9230 - val_loss: 0.1148 - val_accuracy: 0.9645\n",
      "Epoch 16/20\n",
      "981/981 [==============================] - 128s 131ms/step - loss: 0.2716 - accuracy: 0.9220 - val_loss: 0.1076 - val_accuracy: 0.9723\n",
      "Epoch 17/20\n",
      "981/981 [==============================] - 122s 124ms/step - loss: 0.2770 - accuracy: 0.9220 - val_loss: 0.1112 - val_accuracy: 0.9695\n",
      "Epoch 18/20\n",
      "981/981 [==============================] - 106s 108ms/step - loss: 0.2786 - accuracy: 0.9218 - val_loss: 0.1057 - val_accuracy: 0.9689\n",
      "Epoch 19/20\n",
      "981/981 [==============================] - 108s 110ms/step - loss: 0.2845 - accuracy: 0.9208 - val_loss: 0.1141 - val_accuracy: 0.9697\n",
      "Epoch 20/20\n",
      "981/981 [==============================] - 114s 117ms/step - loss: 0.2609 - accuracy: 0.9244 - val_loss: 0.0875 - val_accuracy: 0.9736\n"
     ]
    },
    {
     "data": {
      "text/plain": [
       "<keras.callbacks.History at 0x25acc7131c0>"
      ]
     },
     "execution_count": 17,
     "metadata": {},
     "output_type": "execute_result"
    }
   ],
   "source": [
    "model.fit(X_train, y_train, batch_size=32, epochs=20, validation_data=(X_test, y_test))"
   ]
  },
  {
   "cell_type": "markdown",
   "id": "2fd8586f",
   "metadata": {},
   "source": [
    "# Testing Model "
   ]
  },
  {
   "cell_type": "code",
   "execution_count": 22,
   "id": "d23e9a6c",
   "metadata": {},
   "outputs": [],
   "source": [
    "y_test = pd.read_csv('Test.csv')\n",
    "labels = y_test[\"ClassId\"].values\n",
    "paths = y_test[\"Path\"].values\n",
    "data = []\n",
    "for path in paths:\n",
    "    img = image.load_img(\"Dataset/\"+path,target_size = (30,30))\n",
    "    img = image.img_to_array(img)\n",
    "    data.append(img)\n",
    "X_test = np.array(data)"
   ]
  },
  {
   "cell_type": "code",
   "execution_count": 30,
   "id": "6eda0a22",
   "metadata": {},
   "outputs": [],
   "source": [
    "Y_pred = model.predict(X_test) \n",
    "a = np.argmax(Y_pred,axis=1)"
   ]
  },
  {
   "cell_type": "markdown",
   "id": "d5bff4fe",
   "metadata": {},
   "source": [
    "# Accuracy of the model"
   ]
  },
  {
   "cell_type": "code",
   "execution_count": 32,
   "id": "716db335",
   "metadata": {},
   "outputs": [
    {
     "name": "stdout",
     "output_type": "stream",
     "text": [
      "0.9386381631037213\n"
     ]
    }
   ],
   "source": [
    "from sklearn.metrics import accuracy_score\n",
    "print(accuracy_score(labels, a))"
   ]
  },
  {
   "cell_type": "markdown",
   "id": "672c3646",
   "metadata": {},
   "source": [
    "# Saving Model"
   ]
  },
  {
   "cell_type": "code",
   "execution_count": 33,
   "id": "b12eafc1",
   "metadata": {},
   "outputs": [],
   "source": [
    "model.save(\"./Model/TSR.h5\")"
   ]
  }
 ],
 "metadata": {
  "kernelspec": {
   "display_name": "Python 3 (ipykernel)",
   "language": "python",
   "name": "python3"
  },
  "language_info": {
   "codemirror_mode": {
    "name": "ipython",
    "version": 3
   },
   "file_extension": ".py",
   "mimetype": "text/x-python",
   "name": "python",
   "nbconvert_exporter": "python",
   "pygments_lexer": "ipython3",
   "version": "3.9.7"
  }
 },
 "nbformat": 4,
 "nbformat_minor": 5
}
