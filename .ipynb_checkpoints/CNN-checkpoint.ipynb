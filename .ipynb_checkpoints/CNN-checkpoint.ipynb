{
 "cells": [
  {
   "cell_type": "markdown",
   "id": "f4c143f6",
   "metadata": {},
   "source": [
    "# Convolutional Neural Network"
   ]
  },
  {
   "cell_type": "markdown",
   "id": "d4b0d32c",
   "metadata": {},
   "source": [
    "## Importing the libraries"
   ]
  },
  {
   "cell_type": "code",
   "execution_count": 152,
   "id": "268ece6a",
   "metadata": {},
   "outputs": [],
   "source": [
    "import numpy as np\n",
    "import pandas as pd\n",
    "import matplotlib.pyplot as plt\n",
    "import tensorflow as tf\n",
    "from keras.preprocessing.image import ImageDataGenerator\n",
    "from keras.preprocessing import image\n",
    "from tensorflow.keras.utils import to_categorical\n",
    "from tensorflow.keras.models import Sequential\n",
    "from tensorflow.keras.layers import Conv2D, MaxPool2D, Dense, Flatten, Dropout\n",
    "from sklearn.model_selection import train_test_split\n",
    "import os\n",
    "os.chdir(\"D:\\Projects\\CNN\")"
   ]
  },
  {
   "cell_type": "code",
   "execution_count": 153,
   "id": "06f3ef4c",
   "metadata": {},
   "outputs": [
    {
     "data": {
      "text/plain": [
       "'2.8.0'"
      ]
     },
     "execution_count": 153,
     "metadata": {},
     "output_type": "execute_result"
    }
   ],
   "source": [
    "tf.__version__"
   ]
  },
  {
   "cell_type": "markdown",
   "id": "00a7a3d2",
   "metadata": {},
   "source": [
    "## Data Preprocessing"
   ]
  },
  {
   "cell_type": "code",
   "execution_count": 154,
   "id": "dbb76222",
   "metadata": {},
   "outputs": [
    {
     "name": "stdout",
     "output_type": "stream",
     "text": [
      "D:\\Projects\\CNN\n"
     ]
    }
   ],
   "source": [
    "data = []\n",
    "labels = []\n",
    "classes = 43\n",
    "cur_path = os.getcwd()\n",
    "print(cur_path)"
   ]
  },
  {
   "cell_type": "code",
   "execution_count": 155,
   "id": "cb208423",
   "metadata": {},
   "outputs": [],
   "source": [
    "for i in range(classes):\n",
    "    path = os.path.join(cur_path,'Dataset','train',str(i))\n",
    "    images = os.listdir(path)\n",
    "    for a in images:\n",
    "        try:\n",
    "            img = image.load_img(path+\"\\\\\"+a,target_size = (30,30))\n",
    "            img = image.img_to_array(img)\n",
    "            data.append(img)\n",
    "            labels.append(i)\n",
    "        except Exception as e:\n",
    "            print(e)"
   ]
  },
  {
   "cell_type": "code",
   "execution_count": 156,
   "id": "d952bc26",
   "metadata": {},
   "outputs": [
    {
     "name": "stdout",
     "output_type": "stream",
     "text": [
      "(39209, 30, 30, 3) (39209,)\n"
     ]
    }
   ],
   "source": [
    "data = np.array(data) \n",
    "labels = np.array(labels)\n",
    "print(data.shape, labels.shape) "
   ]
  },
  {
   "cell_type": "code",
   "execution_count": 157,
   "id": "7bff78c2",
   "metadata": {},
   "outputs": [
    {
     "name": "stdout",
     "output_type": "stream",
     "text": [
      "(31367, 30, 30, 3) (7842, 30, 30, 3) (31367,) (7842,)\n"
     ]
    }
   ],
   "source": [
    "X_train, X_test, y_train, y_test =train_test_split(data, labels, test_size=0.2, random_state=0)\n",
    "print(X_train.shape, X_test.shape, y_train.shape, y_test.shape) "
   ]
  },
  {
   "cell_type": "code",
   "execution_count": 158,
   "id": "5c0f2df1",
   "metadata": {},
   "outputs": [],
   "source": [
    "y_train = to_categorical(y_train,43) \n",
    "y_test = to_categorical(y_test,43)"
   ]
  },
  {
   "cell_type": "markdown",
   "id": "3c9d698b",
   "metadata": {},
   "source": [
    "## Building the CNN Model"
   ]
  },
  {
   "cell_type": "code",
   "execution_count": 159,
   "id": "35e1ccdc",
   "metadata": {},
   "outputs": [],
   "source": [
    "model = Sequential()"
   ]
  },
  {
   "cell_type": "code",
   "execution_count": 160,
   "id": "4157d4d9",
   "metadata": {},
   "outputs": [],
   "source": [
    "model.add(Conv2D(filters=32, kernel_size=5, activation='relu', input_shape=[30, 30, 3]))\n",
    "model.add(Conv2D(filters=32, kernel_size=5, activation='relu')) "
   ]
  },
  {
   "cell_type": "code",
   "execution_count": 161,
   "id": "25a6405e",
   "metadata": {},
   "outputs": [],
   "source": [
    "model.add(MaxPool2D(pool_size=2, strides=2)) \n",
    "model.add(Dropout(rate=0.25)) "
   ]
  },
  {
   "cell_type": "code",
   "execution_count": 162,
   "id": "32e5e0f7",
   "metadata": {},
   "outputs": [],
   "source": [
    "model.add(Conv2D(filters=64, kernel_size=3, activation='relu')) \n",
    "model.add(Conv2D(filters=64, kernel_size=3, activation='relu')) "
   ]
  },
  {
   "cell_type": "code",
   "execution_count": 163,
   "id": "86a8a58a",
   "metadata": {},
   "outputs": [],
   "source": [
    "model.add(MaxPool2D(pool_size=2, strides=2)) \n",
    "model.add(Dropout(rate=0.25)) "
   ]
  },
  {
   "cell_type": "code",
   "execution_count": 164,
   "id": "e541383c",
   "metadata": {},
   "outputs": [],
   "source": [
    "model.add(Flatten())"
   ]
  },
  {
   "cell_type": "code",
   "execution_count": 165,
   "id": "efe8d198",
   "metadata": {},
   "outputs": [],
   "source": [
    "model.add(Dense(units=256, activation='relu'))\n",
    "model.add(Dropout(rate=0.5)) "
   ]
  },
  {
   "cell_type": "code",
   "execution_count": 166,
   "id": "dea6aa9a",
   "metadata": {},
   "outputs": [],
   "source": [
    "model.add(Dense(43, activation='softmax'))"
   ]
  },
  {
   "cell_type": "markdown",
   "id": "902fdcd2",
   "metadata": {},
   "source": [
    "## Training the CNN Model"
   ]
  },
  {
   "cell_type": "code",
   "execution_count": 167,
   "id": "a4452b31",
   "metadata": {},
   "outputs": [],
   "source": [
    "model.compile(optimizer = 'adam', loss = 'categorical_crossentropy', metrics = ['accuracy'])"
   ]
  },
  {
   "cell_type": "code",
   "execution_count": 168,
   "id": "f4d2b06b",
   "metadata": {},
   "outputs": [
    {
     "name": "stdout",
     "output_type": "stream",
     "text": [
      "Epoch 1/20\n",
      "981/981 [==============================] - 123s 124ms/step - loss: 1.9718 - accuracy: 0.4945 - val_loss: 0.5899 - val_accuracy: 0.8388\n",
      "Epoch 2/20\n",
      "981/981 [==============================] - 154s 157ms/step - loss: 0.7366 - accuracy: 0.7830 - val_loss: 0.2613 - val_accuracy: 0.9227\n",
      "Epoch 3/20\n",
      "981/981 [==============================] - 138s 141ms/step - loss: 0.4810 - accuracy: 0.8573 - val_loss: 0.1309 - val_accuracy: 0.9623\n",
      "Epoch 4/20\n",
      "981/981 [==============================] - 103s 105ms/step - loss: 0.3742 - accuracy: 0.8900 - val_loss: 0.1133 - val_accuracy: 0.9665\n",
      "Epoch 5/20\n",
      "981/981 [==============================] - 111s 113ms/step - loss: 0.3263 - accuracy: 0.9067 - val_loss: 0.1102 - val_accuracy: 0.9671\n",
      "Epoch 6/20\n",
      "981/981 [==============================] - 122s 125ms/step - loss: 0.2983 - accuracy: 0.9152 - val_loss: 0.0924 - val_accuracy: 0.9750\n",
      "Epoch 7/20\n",
      "981/981 [==============================] - 128s 130ms/step - loss: 0.2764 - accuracy: 0.9224 - val_loss: 0.1159 - val_accuracy: 0.9633\n",
      "Epoch 8/20\n",
      "981/981 [==============================] - 114s 116ms/step - loss: 0.2804 - accuracy: 0.9229 - val_loss: 0.0962 - val_accuracy: 0.9723\n",
      "Epoch 9/20\n",
      "981/981 [==============================] - 122s 125ms/step - loss: 0.2801 - accuracy: 0.9236 - val_loss: 0.1146 - val_accuracy: 0.9674\n",
      "Epoch 10/20\n",
      "981/981 [==============================] - 127s 129ms/step - loss: 0.2764 - accuracy: 0.9260 - val_loss: 0.1074 - val_accuracy: 0.9700\n",
      "Epoch 11/20\n",
      "981/981 [==============================] - 107s 109ms/step - loss: 0.2504 - accuracy: 0.9336 - val_loss: 0.1019 - val_accuracy: 0.9679\n",
      "Epoch 12/20\n",
      "981/981 [==============================] - 142s 144ms/step - loss: 0.2701 - accuracy: 0.9291 - val_loss: 0.0761 - val_accuracy: 0.9790\n",
      "Epoch 13/20\n",
      "981/981 [==============================] - 130s 132ms/step - loss: 0.2438 - accuracy: 0.9388 - val_loss: 0.0766 - val_accuracy: 0.9792\n",
      "Epoch 14/20\n",
      "981/981 [==============================] - 113s 115ms/step - loss: 0.2333 - accuracy: 0.9388 - val_loss: 0.0582 - val_accuracy: 0.9830\n",
      "Epoch 15/20\n",
      "981/981 [==============================] - 118s 120ms/step - loss: 0.2603 - accuracy: 0.9318 - val_loss: 0.0882 - val_accuracy: 0.9781\n",
      "Epoch 16/20\n",
      "981/981 [==============================] - 112s 114ms/step - loss: 0.2347 - accuracy: 0.9396 - val_loss: 0.0801 - val_accuracy: 0.9779\n",
      "Epoch 17/20\n",
      "981/981 [==============================] - 115s 117ms/step - loss: 0.2448 - accuracy: 0.9378 - val_loss: 0.1289 - val_accuracy: 0.9653\n",
      "Epoch 18/20\n",
      "981/981 [==============================] - 116s 118ms/step - loss: 0.2653 - accuracy: 0.9345 - val_loss: 0.1221 - val_accuracy: 0.9679\n",
      "Epoch 19/20\n",
      "981/981 [==============================] - 111s 113ms/step - loss: 0.2564 - accuracy: 0.9380 - val_loss: 0.1680 - val_accuracy: 0.9524\n",
      "Epoch 20/20\n",
      "981/981 [==============================] - 100s 101ms/step - loss: 0.2733 - accuracy: 0.9351 - val_loss: 0.0847 - val_accuracy: 0.9782\n"
     ]
    },
    {
     "data": {
      "text/plain": [
       "<keras.callbacks.History at 0x294af1aecd0>"
      ]
     },
     "execution_count": 168,
     "metadata": {},
     "output_type": "execute_result"
    }
   ],
   "source": [
    "model.fit(X_train, y_train, batch_size=32, epochs=20, validation_data=(X_test, y_test))"
   ]
  },
  {
   "cell_type": "code",
   "execution_count": 169,
   "id": "b12eafc1",
   "metadata": {},
   "outputs": [],
   "source": [
    "model.save(\"./training/TSR.h5\")"
   ]
  }
 ],
 "metadata": {
  "kernelspec": {
   "display_name": "Python 3 (ipykernel)",
   "language": "python",
   "name": "python3"
  },
  "language_info": {
   "codemirror_mode": {
    "name": "ipython",
    "version": 3
   },
   "file_extension": ".py",
   "mimetype": "text/x-python",
   "name": "python",
   "nbconvert_exporter": "python",
   "pygments_lexer": "ipython3",
   "version": "3.9.7"
  }
 },
 "nbformat": 4,
 "nbformat_minor": 5
}
